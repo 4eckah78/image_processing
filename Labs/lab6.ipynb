{
 "cells": [
  {
   "attachments": {},
   "cell_type": "markdown",
   "metadata": {},
   "source": [
    "# Лабораторная работа 6"
   ]
  },
  {
   "attachments": {},
   "cell_type": "markdown",
   "metadata": {},
   "source": [
    "реализовать алгоритм c-means\n"
   ]
  },
  {
   "cell_type": "code",
   "execution_count": 1,
   "metadata": {},
   "outputs": [],
   "source": [
    "import numpy as np\n",
    "import matplotlib.pyplot as plt\n"
   ]
  },
  {
   "cell_type": "code",
   "execution_count": 2,
   "metadata": {},
   "outputs": [],
   "source": [
    "def dist(obj1, obj2):\n",
    "    sum = 0\n",
    "    for i in range(len(obj1)):\n",
    "        sum += np.square(obj1[i] - obj2[i])\n",
    "    return np.sqrt(sum)"
   ]
  },
  {
   "cell_type": "code",
   "execution_count": 3,
   "metadata": {},
   "outputs": [],
   "source": [
    "def get_centroids(centroids, matrix, fuzzifier, objects):\n",
    "    rows = len(objects)\n",
    "    for i in range(len(centroids)):\n",
    "        column = matrix[:, i]\n",
    "        numerator = 0\n",
    "        denominator = 0\n",
    "        for j in range(rows):\n",
    "            numerator += column[j]**fuzzifier*objects[j]\n",
    "            denominator += column[j] ** fuzzifier\n",
    "        centroids[i] = numerator / denominator\n",
    "    return centroids\n",
    "\n",
    "def cmeans(objects, clusters, fuzzifier, max_iterations, epsilon):\n",
    "    length = len(objects)\n",
    "    prob_matrix = np.random.rand(length, clusters)\n",
    "    for i in range (length):\n",
    "        s = sum(prob_matrix[i, :])\n",
    "        for j in range(clusters):\n",
    "            prob_matrix[i,j] = prob_matrix[i,j] / s\n",
    "    centroids = np.zeros([clusters, len(objects[0])])\n",
    "    target_function = np.inf\n",
    "    num_iterations = 0\n",
    "    while True:\n",
    "        centroids = get_centroids(centroids, prob_matrix, fuzzifier, objects)\n",
    "        for i in range(length):\n",
    "            for j in range(clusters):\n",
    "                s = 0\n",
    "                num = dist(objects[i], centroids[j])\n",
    "                for k in range(clusters):\n",
    "                    s += (num / dist(objects[i], centroids[k])) ** (2 / (fuzzifier - 1))\n",
    "                prob_matrix[i,j] = 1 / s\n",
    "        num_iterations += 1\n",
    "        if num_iterations >= max_iterations:\n",
    "            break\n",
    "        new_target_function = 0\n",
    "        for i in range(length):\n",
    "            for j in range(clusters):\n",
    "                new_target_function += prob_matrix[i, j] ** fuzzifier * dist(objects[i], centroids[j]) ** 2\n",
    "        if target_function - new_target_function < epsilon:\n",
    "            break\n",
    "        else:\n",
    "            target_function = new_target_function\n",
    "    return prob_matrix, centroids"
   ]
  },
  {
   "cell_type": "code",
   "execution_count": 12,
   "metadata": {},
   "outputs": [
    {
     "name": "stdout",
     "output_type": "stream",
     "text": [
      "Objects\n",
      " [6 9] [6 1] [1 2] [8 7] [3 5] [6 3] [5 3] [5 8] [8 2] [8 1]\n",
      "Matrix\n",
      " [[0.05059845 0.94940155]\n",
      " [0.9689507  0.0310493 ]\n",
      " [0.67933823 0.32066177]\n",
      " [0.17313469 0.82686531]\n",
      " [0.4390309  0.5609691 ]\n",
      " [0.96539253 0.03460747]\n",
      " [0.92886135 0.07113865]\n",
      " [0.0192804  0.9807196 ]\n",
      " [0.89057032 0.10942968]\n",
      " [0.89314721 0.10685279]]\n",
      "Centroids\n",
      " [5.91866451 2.15599377] [5.63238881 7.46325692]\n"
     ]
    },
    {
     "data": {
      "image/png": "[encoded data removed]",
      "text/plain": [
       "<Figure size 640x480 with 1 Axes>"
      ]
     },
     "metadata": {},
     "output_type": "display_data"
    }
   ],
   "source": [
    "np.random.seed(1)\n",
    "objects = np.random.randint(1,10, size=(10, 2))\n",
    "\n",
    "matrix, centroids = cmeans(objects, 2, 2, 100, 0.1)\n",
    "print(\"Objects\\n\", *objects)\n",
    "print(\"Matrix\\n\", matrix)\n",
    "print(\"Centroids\\n\", *centroids)\n",
    "colors = ['g', 'purple', 'black', 'y']\n",
    "for k in range(len(centroids)):\n",
    "    first = np.array([[*objects[i]] for i in range(len(objects)) if matrix[i][k] >= 0.5])\n",
    "    plt.scatter(first[:,0], first[:,1], c=colors[k], label=f\"{k} class\")\n",
    "plt.scatter(centroids[:,0], centroids[:,1], c=\"r\")\n",
    "plt.legend()\n",
    "plt.show()"
   ]
  },
  {
   "cell_type": "code",
   "execution_count": 14,
   "metadata": {},
   "outputs": [
    {
     "name": "stdout",
     "output_type": "stream",
     "text": [
      "[[0.96443462 0.0158915  0.01967388]\n",
      " [0.02768117 0.89490717 0.07741166]\n",
      " [0.05809489 0.10205758 0.83984753]\n",
      " [0.78544803 0.12865216 0.08589981]\n",
      " [0.11389666 0.08264424 0.8034591 ]\n",
      " [0.07512756 0.76651344 0.158359  ]\n",
      " [0.09794264 0.48057069 0.42148667]\n",
      " [0.92928833 0.02734638 0.04336528]\n",
      " [0.02534786 0.94258478 0.03206737]\n",
      " [0.02780206 0.93058378 0.04161416]]\n",
      "[[6.12180895 8.06953703]\n",
      " [6.98696092 1.75649995]\n",
      " [2.53247449 3.41930412]]\n"
     ]
    },
    {
     "data": {
      "image/png": "[encoded data removed]",
      "text/plain": [
       "<Figure size 640x480 with 1 Axes>"
      ]
     },
     "metadata": {},
     "output_type": "display_data"
    }
   ],
   "source": [
    "np.random.seed(1)\n",
    "objects = np.random.randint(1,10, size=(10, 2))\n",
    "\n",
    "matrix, centroids = cmeans(objects, 3, 2, 100, 0.1)\n",
    "print(matrix)\n",
    "print(centroids)\n",
    "colors = ['g', 'purple', 'black', 'y']\n",
    "for k in range(len(centroids)):\n",
    "    first = np.array([[*objects[i]] for i in range(len(objects)) if matrix[i][k] >= 0.5])\n",
    "    plt.scatter(first[:,0], first[:,1], c=colors[k], label=f\"{k} class\")\n",
    "plt.scatter(centroids[:,0], centroids[:,1], c=\"r\")\n",
    "plt.legend()\n",
    "plt.show()"
   ]
  },
  {
   "cell_type": "code",
   "execution_count": 9,
   "metadata": {},
   "outputs": [
    {
     "name": "stdout",
     "output_type": "stream",
     "text": [
      "[[4.57896186e-01 5.30848636e-01 1.12551785e-02]\n",
      " [4.94195830e-01 4.99901829e-01 5.90234091e-03]\n",
      " [3.07894716e-08 3.10806648e-08 9.99999938e-01]\n",
      " [5.47176021e-01 4.49446135e-01 3.37784411e-03]\n",
      " [5.58030070e-01 4.38620094e-01 3.34983615e-03]]\n",
      "[[ 2.03455591  0.65662307  2.61060279  0.52079758  0.24425805]\n",
      " [ 1.97013824  0.83399463  2.40035228  0.48076011  0.2552177 ]\n",
      " [ 1.99982335 23.99599241  8.99861172  0.99986474  0.99985282]]\n"
     ]
    }
   ],
   "source": [
    "t = [0,3,1,0,0] # 0 \n",
    "o = [4,0,1,1,1] # 1\n",
    "c = [2,24,9,1,1] # 2\n",
    "p = [1,0,4,1,0] # 3\n",
    "ob = [3,0,4,0,0] # 4\n",
    "objects = np.array([t,o,c,p,ob])\n",
    "\n",
    "matrix, centroids = cmeans(objects, 3, 2, 100, 0.1)\n",
    "print(matrix)\n",
    "print(centroids)\n",
    "# colors = ['g', 'pink', 'y']\n",
    "# for k in range(len(centroids)):\n",
    "#     first = np.array([[*objects[i]] for i in range(len(objects)) if matrix[i][k] >= 0.5])\n",
    "#     plt.scatter(first[:,0], first[:,1], c=colors[k])\n",
    "# plt.scatter(centroids[:,0], centroids[:,1], c=\"r\")\n",
    "# plt.show()"
   ]
  },
  {
   "cell_type": "code",
   "execution_count": 6,
   "metadata": {},
   "outputs": [],
   "source": [
    "def prim_alg(matrix):\n",
    "    size = len(matrix[0])\n",
    "    ans_matrix = np.zeros([size, size])\n",
    "    rows_in_vision = set()\n",
    "    columns_in_vision = set()\n",
    "    for i in range(size):\n",
    "        rows_in_vision.add(i)\n",
    "    min_el = np.inf\n",
    "    row_ind = 0\n",
    "    col_ind = 0\n",
    "    for i in range(size):\n",
    "        for j in range(size):\n",
    "            if  matrix[i, j] > 0 and matrix[i, j] < min_el:\n",
    "                min_el = matrix[i, j]\n",
    "                row_ind = i\n",
    "                col_ind = j\n",
    "    rows_in_vision.remove(row_ind)\n",
    "    rows_in_vision.remove(col_ind)\n",
    "    columns_in_vision.add(row_ind)\n",
    "    columns_in_vision.add(col_ind)\n",
    "    ans_matrix[row_ind, col_ind] = matrix[row_ind, col_ind]\n",
    "    ans_matrix[col_ind, row_ind] = matrix[row_ind, col_ind]\n",
    "    while len(rows_in_vision) > 0:\n",
    "        min_el = np.inf\n",
    "        for i in rows_in_vision:\n",
    "            for j in columns_in_vision:\n",
    "                if matrix[i, j] > 0 and matrix[i, j] < min_el:\n",
    "                    min_el = matrix[i, j]\n",
    "                    row_ind = i\n",
    "                    col_ind = j\n",
    "        ans_matrix[row_ind, col_ind] = matrix[row_ind, col_ind]\n",
    "        ans_matrix[col_ind, row_ind] = matrix[row_ind, col_ind]\n",
    "        rows_in_vision.remove(row_ind)\n",
    "        columns_in_vision.add(row_ind)\n",
    "        columns_in_vision.add(col_ind)\n",
    "    return ans_matrix"
   ]
  },
  {
   "cell_type": "code",
   "execution_count": 7,
   "metadata": {},
   "outputs": [
    {
     "name": "stdout",
     "output_type": "stream",
     "text": [
      "[[ 0.  0.  0.  0.  0. 15.]\n",
      " [ 0.  0.  0.  0.  0. 18.]\n",
      " [ 0.  0.  0. 19. 21.  0.]\n",
      " [ 0.  0. 19.  0.  0.  0.]\n",
      " [ 0.  0. 21.  0.  0. 12.]\n",
      " [15. 18.  0.  0. 12.  0.]]\n"
     ]
    }
   ],
   "source": [
    "matrix = np.array([[0, 25, 0, 26, 0, 15],\n",
    "          [25, 0, 23, 0, 20, 18],\n",
    "          [0, 23, 0, 19, 21, 0],\n",
    "          [26, 0, 19, 0, 0, 0],\n",
    "          [0, 20, 21, 0, 0, 12],\n",
    "          [15, 18, 0, 0, 12, 0]])\n",
    "\n",
    "ans = prim_alg(matrix)\n",
    "print(ans)"
   ]
  }
 ],
 "metadata": {
  "kernelspec": {
   "display_name": "Python 3",
   "language": "python",
   "name": "python3"
  },
  "language_info": {
   "codemirror_mode": {
    "name": "ipython",
    "version": 3
   },
   "file_extension": ".py",
   "mimetype": "text/x-python",
   "name": "python",
   "nbconvert_exporter": "python",
   "pygments_lexer": "ipython3",
   "version": "3.10.4"
  },
  "orig_nbformat": 4,
  "vscode": {
   "interpreter": {
    "hash": "d8a624bf1adbbaf933b0003c78f638b728874fee2c1556a8e12c023670791837"
   }
  }
 },
 "nbformat": 4,
 "nbformat_minor": 2
}
