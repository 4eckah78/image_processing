{
 "cells": [
  {
   "cell_type": "code",
   "execution_count": 2,
   "metadata": {},
   "outputs": [],
   "source": [
    "import numpy as np"
   ]
  },
  {
   "attachments": {},
   "cell_type": "markdown",
   "metadata": {},
   "source": [
    "Домашнее задание 1 \n",
    "\n",
    "презентация, слайд 5 \n",
    "\n",
    "составить вектор контуры для овала и буквы А (вручную или написать программу*)  \n",
    "\n",
    "\n",
    "Овал (левая точка самая, по часовой стрелке)\n",
    "\n",
    "(1+i,1,1-i,-1-i,-1,-1+i)\n",
    "\n",
    "Буква А (левая точка самая, по часовой стрелке)\n",
    "\n",
    "1 - (1+i,1+i,1-i,1-i,-1+i,-2,-1-i)\n",
    "\n",
    "2 - (1+i,1-i,-2)\n"
   ]
  },
  {
   "attachments": {},
   "cell_type": "markdown",
   "metadata": {},
   "source": [
    "Домашнее задание 2.\n",
    "\n",
    "Слайд 13 написать программу для рассчетов по оставшимся примерам"
   ]
  },
  {
   "cell_type": "code",
   "execution_count": 3,
   "metadata": {},
   "outputs": [],
   "source": [
    "def dot(x, y):\n",
    "    return np.vdot(x, y)\n",
    "\n",
    "def NSP(x, y):\n",
    "    return dot(x, y) / (np.linalg.norm(x) * np.linalg.norm(y)) "
   ]
  },
  {
   "cell_type": "code",
   "execution_count": 4,
   "metadata": {},
   "outputs": [
    {
     "name": "stdout",
     "output_type": "stream",
     "text": [
      "same (0.9999999999999998+0j)\n",
      "90 0.9999999999999998j\n",
      "180 (-0.9999999999999998+0j)\n",
      "270 -0.9999999999999998j\n"
     ]
    }
   ],
   "source": [
    "# начальная точка левая верхняя\n",
    "# элементарный вектор - примерно 1 см\n",
    "\n",
    "g1=(1, 1-1j, -1, -1,-1, 1+1j)\n",
    "print(\"same\", NSP(g1, g1))\n",
    "\n",
    "g2=(-1j, -1-1j, 1j, 1j, 1j, 1-1j)\n",
    "print(\"90\", NSP(g2, g1))\n",
    "\n",
    "g3=(-1, -1+1j, 1, 1, 1, -1-1j)\n",
    "print(\"180\", NSP(g3, g1))\n",
    "\n",
    "g4=(1j, 1+1j, -1j, -1j, -1j, -1+1j)\n",
    "print(\"270\", NSP(g4, g1))"
   ]
  },
  {
   "cell_type": "code",
   "execution_count": 5,
   "metadata": {},
   "outputs": [
    {
     "name": "stdout",
     "output_type": "stream",
     "text": [
      "square orange (0.9999999999999998+0j) \n",
      " square orange and green (-0.9999999999999998+0j) \n",
      " square green and green (0.9999999999999998+0j)\n",
      "star orange (1.0000000000000002+0j) \n",
      " star orange and green (-0.6666666666666667+0.44444444444444453j) \n",
      " star green and green (1.0000000000000002+0j)\n",
      "star and square orange (0.521749194749951+0.07453559924999299j) \n",
      "\n"
     ]
    }
   ],
   "source": [
    "# Домашнее задание 3\n",
    "# Слайд 17  посчитать нсп для оранжевых и зеленых точек разных фигур\n",
    "# и для разных начальных точек одной фигуры\n",
    "\n",
    "# по часовой\n",
    "# оранжевая\n",
    "sq_orange = np.array([1, 1, 1, -1j, -1j, -1, -1, -1, 1j, 1j])\n",
    "# зеленая\n",
    "sq_green = np.array([-1, -1, -1, 1j, 1j, 1, 1, 1, -1j, -1j])\n",
    "\n",
    "# оранжевая\n",
    "star_orange = np.array([1, 1+1j, 1-1j, 1, -1-1j, 1-1j, -1+1j, -1-1j, 1+1j, -1+1j])\n",
    "# зеленая\n",
    "star_green = np.array([-1+1j, -1-1j, 1+1j, -1+1j, 1, 1+1j, 1-1j, 1, -1-1j, 1-1j])\n",
    "\n",
    "print(\"square orange\", NSP(sq_orange, sq_orange), \"\\n\",\n",
    "      \"square orange and green\", NSP(sq_orange, sq_green), \"\\n\",\n",
    "      \"square green and green\",  NSP(sq_green, sq_green))\n",
    "\n",
    "print(\"star orange\", NSP(star_orange, star_orange), \"\\n\",\n",
    "      \"star orange and green\", NSP(star_orange, star_green), \"\\n\",\n",
    "      \"star green and green\",  NSP(star_green, star_green))\n",
    "\n",
    "print(\"star and square orange\", NSP(sq_orange, star_orange), \"\\n\")"
   ]
  },
  {
   "cell_type": "code",
   "execution_count": 14,
   "metadata": {},
   "outputs": [
    {
     "name": "stdout",
     "output_type": "stream",
     "text": [
      "[(4+0j), -4j, (-4+0j), 4j]\n",
      "2.0\n",
      "4.898979485566356\n",
      "(1+0j)\n"
     ]
    }
   ],
   "source": [
    "x =(1, -1j, -1, 1j)\n",
    "y =(1+1j,1+1j,1+1j, 1-1j,1-1j,1-1j,-1-1j,-1-1j,-1-1j,-1+1j,-1+1j,-1+1j)\n",
    "\n",
    "def AKF(x, y):\n",
    "    res = []\n",
    "    if len(x) != len(y):\n",
    "        print(\"array a and b have different lengths!\")\n",
    "        return None\n",
    "    for i in range(len(x)):\n",
    "        res.append(dot(x, np.roll(y, -i)))\n",
    "    return res\n",
    "\n",
    "akf = AKF(x, x)\n",
    "print(akf)\n",
    "print(np.linalg.norm(x))\n",
    "print(np.linalg.norm(y))\n",
    "\n",
    "print(NSP(x, x))"
   ]
  },
  {
   "attachments": {},
   "cell_type": "markdown",
   "metadata": {},
   "source": [
    "Домашняя работа:\n",
    "1. слайд 15 презентации посчитать АКФ для всех объектов и свертку с помощью вейвлета Хаара (первый компонент)\n"
   ]
  },
  {
   "cell_type": "code",
   "execution_count": 76,
   "metadata": {},
   "outputs": [],
   "source": [
    "romb = [1+1j, 1+1j, 1+1j, 1-1j, 1-1j, 1-1j, -1-1j, -1-1j, -1-1j, -1+1j, -1+1j, -1+1j]\n",
    "triangle = [1+1j, 1+1j, 1+1j, 1+1j, 1-1j, 1-1j, 1-1j, 1-1j, -2, -2, -2, -2] \n",
    "star = [1, 1+1j, 1-1j, 1, -1-1j, 1-1j, -2+1j, -2-1j, 1+1j, -1+1j]\n",
    "cross = [1, 1j, 2, -1j, 1, -2j, -1, -1j, -2, 1j, -1, 2j]"
   ]
  },
  {
   "cell_type": "code",
   "execution_count": 15,
   "metadata": {},
   "outputs": [],
   "source": [
    "def haar_env(x):\n",
    "    a, b = [], []\n",
    "    for i in range(len(x) // 2):\n",
    "        a.append((x[2 * i] + x[2 * i + 1]) / 2)\n",
    "        b.append((x[2 * i] - x[2 * i + 1]) / 2)\n",
    "    return a, b"
   ]
  },
  {
   "cell_type": "code",
   "execution_count": 17,
   "metadata": {},
   "outputs": [
    {
     "name": "stdout",
     "output_type": "stream",
     "text": [
      "АКФ треугольника: \n",
      "[(4+0j), -4j, (-4+0j), 4j]\n",
      "[(2-2j), (-2+2j)]\n",
      "[(2+2j), (-2-2j)]\n"
     ]
    }
   ],
   "source": [
    "akf = AKF(x, x)\n",
    "print(\"АКФ треугольника: \")\n",
    "print(akf)\n",
    "haar = haar_env(akf)\n",
    "print(haar[0])\n",
    "print(haar[1]) "
   ]
  },
  {
   "cell_type": "code",
   "execution_count": 79,
   "metadata": {},
   "outputs": [
    {
     "name": "stdout",
     "output_type": "stream",
     "text": [
      "АКФ ромба: \n",
      "[(24+0j), (16-8j), (8-16j), -24j, (-8-16j), (-16-8j), (-24+0j), (-16+8j), (-8+16j), 24j, (8+16j), (16+8j)]\n",
      "[(20-4j), (4-20j), (-12-12j), (-20+4j), (-4+20j), (12+12j)]\n",
      "[(4+4j), (4+4j), (4-4j), (-4-4j), (-4-4j), (-4+4j)]\n"
     ]
    }
   ],
   "source": [
    "akf = AKF(romb, romb)\n",
    "print(\"АКФ ромба: \")\n",
    "print(akf)\n",
    "haar = haar_env(akf)\n",
    "print(haar[0])\n",
    "print(haar[1]) "
   ]
  },
  {
   "cell_type": "code",
   "execution_count": 80,
   "metadata": {},
   "outputs": [
    {
     "name": "stdout",
     "output_type": "stream",
     "text": [
      "АКФ звезды: \n",
      "[(24+0j), (-3+4j), (4-20j), (3+2j), (-16-10j), 0j, (-16+10j), (3-2j), (4+20j), (-3-4j)]\n",
      "[(10.5+2j), (3.5-9j), (-8-5j), (-6.5+4j), (0.5+8j)]\n",
      "[(13.5-2j), (0.5-11j), (-8-5j), (-9.5+6j), (3.5+12j)]\n"
     ]
    }
   ],
   "source": [
    "akf = AKF(star, star)\n",
    "print(\"АКФ звезды: \")\n",
    "print(akf)\n",
    "haar = haar_env(akf)\n",
    "print(haar[0])\n",
    "print(haar[1]) "
   ]
  },
  {
   "cell_type": "code",
   "execution_count": 81,
   "metadata": {},
   "outputs": [
    {
     "name": "stdout",
     "output_type": "stream",
     "text": [
      "АКФ креста: \n",
      "[(24+0j), -12j, (12+0j), -24j, (-12+0j), -12j, (-24+0j), 12j, (-12+0j), 24j, (12+0j), 12j]\n",
      "[(12-6j), (6-12j), (-6-6j), (-12+6j), (-6+12j), (6+6j)]\n",
      "[(12+6j), (6+12j), (-6+6j), (-12-6j), (-6-12j), (6-6j)]\n"
     ]
    }
   ],
   "source": [
    "akf = AKF(cross, cross)\n",
    "print(\"АКФ креста: \")\n",
    "print(akf)\n",
    "haar = haar_env(akf)\n",
    "print(haar[0])\n",
    "print(haar[1]) "
   ]
  },
  {
   "attachments": {},
   "cell_type": "markdown",
   "metadata": {},
   "source": [
    "\n",
    "2. реалитзовать оба алгоритма эквализации контуров (слайд 17-18)"
   ]
  },
  {
   "cell_type": "code",
   "execution_count": 82,
   "metadata": {},
   "outputs": [],
   "source": [
    "def eq(vect, k):\n",
    "    v_len = len(vect)\n",
    "    if v_len == k:\n",
    "        return vect\n",
    "    n = [0] * k\n",
    "    if v_len > k:\n",
    "        for i in range(v_len):\n",
    "            ind = int(i * k/v_len)\n",
    "            n[ind] += vect[i]\n",
    "        return n\n",
    "    for i in range(k):\n",
    "        index = i * v_len / k\n",
    "        j = int(index)\n",
    "        l = index - j\n",
    "        n[i] = vect[j % v_len] * (1 - l) + vect[(j+1) % v_len] * l\n",
    "    return n"
   ]
  },
  {
   "cell_type": "code",
   "execution_count": 83,
   "metadata": {},
   "outputs": [
    {
     "name": "stdout",
     "output_type": "stream",
     "text": [
      "Длина креста: 12\n",
      "Эквализация креста: \n",
      "12 точек: \n",
      "[1, 1j, 2, (-0-1j), 1, (-0-2j), -1, (-0-1j), -2, 1j, -1, 2j]\n",
      "10 точек: \n",
      "[1, (1+1j), (1-1j), 1, (-1-1j), (1-1j), (-2+1j), (-2-1j), (1+1j), (-1+1j)]\n",
      "16 точек: \n",
      "[(1+0j), (1+0.625j), (1+0.5j), (1-0.75j), (1-0.5j), (0.75-0.125j), (-0.5-0.75j), (-0.25-1j), (1-1j), (-0.875+0.25j), (-2+0.5j), (-2-0.75j), (-0.5+0j), (0.75+1j), (-0.5+1j), (-0.25+0.625j)]\n"
     ]
    }
   ],
   "source": [
    "print(f\"Длина креста: {len(cross)}\")\n",
    "print(\"Эквализация креста: \")\n",
    "print(\"12 точек: \")\n",
    "print(eq(cross, 12))\n",
    "print(\"10 точек: \")\n",
    "print(eq(star, 10))\n",
    "print(\"16 точек: \")\n",
    "print(eq(star, 16))"
   ]
  },
  {
   "cell_type": "code",
   "execution_count": 84,
   "metadata": {},
   "outputs": [
    {
     "name": "stdout",
     "output_type": "stream",
     "text": [
      "Длина треугольника: 12\n",
      "Эквализация треугольника: \n",
      "12 точек: \n",
      "[(1+1j), (1+1j), (1+1j), (1+1j), (1-1j), (1-1j), (1-1j), (1-1j), -2, -2, -2, -2]\n",
      "6 точек: \n",
      "[(4+4j), (4-4j), -8]\n",
      "24 точек: \n",
      "[(1+1j), (1+1j), (1+1j), (1+1j), (1+1j), (1-0.5j), (1-1j), (1-1j), (1-1j), (1-1j), (-0.5-0.5j), -2.0, -2.0, -2.0, -2.0, (-1.25+0.25j)]\n"
     ]
    }
   ],
   "source": [
    "print(f\"Длина треугольника: {len(triangle)}\")\n",
    "print(\"Эквализация треугольника: \")\n",
    "print(\"12 точек: \")\n",
    "print(eq(triangle, 12))\n",
    "print(\"6 точек: \")\n",
    "print(eq(triangle, 3))\n",
    "print(\"24 точек: \")\n",
    "print(eq(triangle, 16))"
   ]
  },
  {
   "cell_type": "code",
   "execution_count": 85,
   "metadata": {},
   "outputs": [
    {
     "name": "stdout",
     "output_type": "stream",
     "text": [
      "Длина звезды: 10\n",
      "Эквализация звезды: \n",
      "12 точек: \n",
      "[1, (1+1j), (1-1j), 1, (-1-1j), (1-1j), (-2+1j), (-2-1j), (1+1j), (-1+1j)]\n",
      "5 точек: \n",
      "[(2+1j), (2-1j), -2j, (-4+0j), 2j]\n",
      "24 точек: \n",
      "[(1+0j), (1+0.5j), (1+1j), (1+0j), (1-1j), (1-0.5j), (1+0j), -0.5j, (-1-1j), -1j, (1-1j), (-0.5+0j), (-2+1j), (-2+0j), (-2-1j), (-0.5+0j), (1+1j), 1j, (-1+1j), 0.5j]\n"
     ]
    }
   ],
   "source": [
    "print(f\"Длина звезды: {len(star)}\")\n",
    "print(\"Эквализация звезды: \")\n",
    "print(\"12 точек: \")\n",
    "print(eq(star, 10))\n",
    "print(\"5 точек: \")\n",
    "print(eq(star, 5))\n",
    "print(\"24 точек: \")\n",
    "print(eq(star, 20))"
   ]
  },
  {
   "cell_type": "code",
   "execution_count": 62,
   "metadata": {},
   "outputs": [
    {
     "name": "stdout",
     "output_type": "stream",
     "text": [
      "Длина ромба: 12\n",
      "Эквализация ромба: \n",
      "12 точек: \n",
      "[(1+1j), (1+1j), (1+1j), (1-1j), (1-1j), (1-1j), (-1-1j), (-1-1j), (-1-1j), (-1+1j), (-1+1j), (-1+1j)]\n",
      "6 точек: \n",
      "[(3+3j), (3-3j), (-3-3j), (-3+3j)]\n",
      "24 точек: \n",
      "[(1+1j), (1+1j), (1+1j), (1+0.5j), (1-1j), (1-1j), (1-1j), (0.5-1j), (-1-1j), (-1-1j), (-1-1j), (-1-0.5j), (-1+1j), (-1+1j), (-1+1j), (-0.5+1j)]\n"
     ]
    }
   ],
   "source": [
    "print(f\"Длина ромба: {len(romb)}\")\n",
    "print(\"Эквализация ромба: \")\n",
    "print(\"12 точек: \")\n",
    "print(eq(romb, 12))\n",
    "print(\"6 точек: \")\n",
    "print(eq(romb, 4))\n",
    "print(\"24 точек: \")\n",
    "print(eq(romb, 16))"
   ]
  }
 ],
 "metadata": {
  "kernelspec": {
   "display_name": "Python 3",
   "language": "python",
   "name": "python3"
  },
  "language_info": {
   "codemirror_mode": {
    "name": "ipython",
    "version": 3
   },
   "file_extension": ".py",
   "mimetype": "text/x-python",
   "name": "python",
   "nbconvert_exporter": "python",
   "pygments_lexer": "ipython3",
   "version": "3.10.4"
  },
  "orig_nbformat": 4,
  "vscode": {
   "interpreter": {
    "hash": "d8a624bf1adbbaf933b0003c78f638b728874fee2c1556a8e12c023670791837"
   }
  }
 },
 "nbformat": 4,
 "nbformat_minor": 2
}
