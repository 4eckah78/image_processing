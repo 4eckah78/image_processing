{
 "cells": [
  {
   "attachments": {},
   "cell_type": "markdown",
   "metadata": {},
   "source": [
    "# Лабораторная работа 12"
   ]
  },
  {
   "attachments": {},
   "cell_type": "markdown",
   "metadata": {},
   "source": [
    "Корреляционный метод"
   ]
  },
  {
   "cell_type": "code",
   "execution_count": 2,
   "metadata": {},
   "outputs": [],
   "source": [
    "import numpy as np\n",
    "import matplotlib.pyplot as plt\n",
    "\n",
    "def match_template(template, image):\n",
    "    w, h = template.shape\n",
    "    res = 0\n",
    "    black = 0\n",
    "    for i in range(w):\n",
    "        for j in range(h):\n",
    "            if image[i][j] == 1:\n",
    "                black += 1\n",
    "                if template[i][j] == 1:\n",
    "                    res += 1\n",
    "                elif template[i][j] == 0:\n",
    "                    res -= 1\n",
    "    return res / black\n",
    "\n",
    "def test(image, templates):\n",
    "    res = []\n",
    "    for template in templates:\n",
    "        res.append(match_template(template, image))\n",
    "    return np.argmax(np.array(res)), max(res)"
   ]
  },
  {
   "cell_type": "code",
   "execution_count": 3,
   "metadata": {},
   "outputs": [],
   "source": [
    "three = np.array([\n",
    "    [0,0,1,1,0],\n",
    "    [0,1,0,0,1],\n",
    "    [0,0,0,0,1],\n",
    "    [0,0,0,1,0],\n",
    "    [0,0,0,0,1],\n",
    "    [1,0,0,0,1],\n",
    "    [0,1,1,1,0],\n",
    "])\n",
    "\n",
    "digits = [\n",
    "    np.array([\n",
    "        [0,1,1,1,0],\n",
    "        [1,0,0,0,1],\n",
    "        [1,0,0,0,1],\n",
    "        [1,0,0,0,1],\n",
    "        [1,0,0,0,1],\n",
    "        [1,0,0,0,1],\n",
    "        [0,1,1,1,0],\n",
    "    ]), \n",
    "    np.array([\n",
    "        [0,0,1,0,0],\n",
    "        [0,1,1,0,0],\n",
    "        [0,0,1,0,0],\n",
    "        [0,0,1,0,0],\n",
    "        [0,0,1,0,0],\n",
    "        [0,0,1,0,0],\n",
    "        [0,1,1,1,0],\n",
    "        ]),\n",
    "    np.array([\n",
    "        [0,1,1,1,0],\n",
    "        [1,0,0,0,1],\n",
    "        [0,0,0,0,1],\n",
    "        [0,0,0,1,0],\n",
    "        [0,0,1,0,0],\n",
    "        [0,1,0,0,0],\n",
    "        [1,1,1,1,1],\n",
    "        ]),\n",
    "    np.array([\n",
    "        [1,1,1,1,1],\n",
    "        [0,0,0,1,0],\n",
    "        [0,0,1,0,0],\n",
    "        [0,0,0,1,0],\n",
    "        [0,0,0,0,1],\n",
    "        [1,0,0,0,1],\n",
    "        [0,1,1,1,0],\n",
    "        ]), \n",
    "    np.array([\n",
    "        [0,0,0,1,0],\n",
    "        [0,0,1,1,0],\n",
    "        [0,1,0,1,0],\n",
    "        [1,0,0,1,0],\n",
    "        [1,1,1,1,1],\n",
    "        [0,0,0,1,0],\n",
    "        [0,0,0,1,0],\n",
    "        ]), \n",
    "    np.array([\n",
    "        [1,1,1,1,1],\n",
    "        [1,0,0,0,0],\n",
    "        [1,1,1,1,0],\n",
    "        [0,0,0,0,1],\n",
    "        [0,0,0,0,1],\n",
    "        [1,0,0,0,1],\n",
    "        [0,1,1,1,0],\n",
    "        ]),\n",
    "    np.array([\n",
    "        [0,0,1,1,0],\n",
    "        [0,1,0,0,0],\n",
    "        [1,0,0,0,0],\n",
    "        [1,1,1,1,0],\n",
    "        [1,0,0,0,1],\n",
    "        [1,0,0,0,1],\n",
    "        [0,1,1,1,0],\n",
    "        ]),\n",
    "    np.array([\n",
    "        [1,1,1,1,1],\n",
    "        [0,0,0,0,1],\n",
    "        [0,0,0,1,0],\n",
    "        [0,0,1,0,0],\n",
    "        [0,1,0,0,0],\n",
    "        [0,1,0,0,0],\n",
    "        [0,1,0,0,0],\n",
    "        ]),\n",
    "    np.array([\n",
    "        [0,1,1,1,0],\n",
    "        [1,0,0,0,1],\n",
    "        [1,0,0,0,1],\n",
    "        [0,1,1,1,0],\n",
    "        [1,0,0,0,1],\n",
    "        [1,0,0,0,1],\n",
    "        [0,1,1,1,0],\n",
    "        ]),\n",
    "    np.array([\n",
    "        [0,1,1,1,0],\n",
    "        [1,0,0,0,1],\n",
    "        [1,0,0,0,1],\n",
    "        [0,1,1,1,1],\n",
    "        [0,0,0,0,1],\n",
    "        [0,0,0,1,0],\n",
    "        [0,1,1,0,0],\n",
    "    ])\n",
    "]"
   ]
  },
  {
   "cell_type": "code",
   "execution_count": 4,
   "metadata": {},
   "outputs": [
    {
     "data": {
      "image/png": "[encoded data removed]",
      "text/plain": [
       "<Figure size 1400x500 with 10 Axes>"
      ]
     },
     "metadata": {},
     "output_type": "display_data"
    }
   ],
   "source": [
    "fig = plt.figure(figsize=(14, 5))\n",
    "\n",
    "for i, digit in enumerate(digits):\n",
    "    a = digit.copy()\n",
    "    a[a == 0] = 255\n",
    "    fig.add_subplot(2, 5, i + 1)\n",
    "    plt.imshow(a, cmap=\"gray\")\n",
    "    plt.axis('off')\n",
    "plt.show()"
   ]
  },
  {
   "cell_type": "code",
   "execution_count": 5,
   "metadata": {},
   "outputs": [
    {
     "data": {
      "image/png": "[encoded data removed]",
      "text/plain": [
       "<Figure size 640x480 with 1 Axes>"
      ]
     },
     "metadata": {},
     "output_type": "display_data"
    }
   ],
   "source": [
    "a = three.copy()\n",
    "a[a == 0] = 255\n",
    "plt.imshow(a, cmap=\"gray\")\n",
    "plt.axis('off')\n",
    "plt.show()"
   ]
  },
  {
   "cell_type": "code",
   "execution_count": 6,
   "metadata": {},
   "outputs": [
    {
     "name": "stdout",
     "output_type": "stream",
     "text": [
      "digit=8, corr=0.8333333333333334\n"
     ]
    }
   ],
   "source": [
    "digit, corr = test(three, digits)\n",
    "print(f\"{digit=}, {corr=}\")"
   ]
  },
  {
   "cell_type": "code",
   "execution_count": 7,
   "metadata": {},
   "outputs": [
    {
     "data": {
      "image/png": "[encoded data removed]",
      "text/plain": [
       "<Figure size 640x480 with 1 Axes>"
      ]
     },
     "metadata": {},
     "output_type": "display_data"
    }
   ],
   "source": [
    "two = np.array([\n",
    "    [0,1,1,1,0],\n",
    "    [1,0,0,0,1],\n",
    "    [0,0,0,0,1],\n",
    "    [0,0,1,1,1],\n",
    "    [0,1,0,0,0],\n",
    "    [1,0,0,1,0],\n",
    "    [1,1,1,0,1],\n",
    "])\n",
    "a = two.copy()\n",
    "a[a == 0] = 255\n",
    "plt.imshow(a, cmap=\"gray\")\n",
    "plt.axis('off')\n",
    "plt.show()"
   ]
  },
  {
   "cell_type": "code",
   "execution_count": 8,
   "metadata": {},
   "outputs": [
    {
     "name": "stdout",
     "output_type": "stream",
     "text": [
      "digit=9, corr=0.5\n"
     ]
    }
   ],
   "source": [
    "digit, corr = test(two, digits)\n",
    "print(f\"{digit=}, {corr=}\")"
   ]
  },
  {
   "cell_type": "code",
   "execution_count": 9,
   "metadata": {},
   "outputs": [
    {
     "data": {
      "image/png": "[encoded data removed]",
      "text/plain": [
       "<Figure size 640x480 with 1 Axes>"
      ]
     },
     "metadata": {},
     "output_type": "display_data"
    },
    {
     "name": "stdout",
     "output_type": "stream",
     "text": [
      "digit=8, corr=0.6\n"
     ]
    }
   ],
   "source": [
    "heart = np.array([\n",
    "    [0,1,0,1,0],\n",
    "    [1,0,1,0,1],\n",
    "    [1,0,0,0,1],\n",
    "    [0,1,0,1,0],\n",
    "    [0,0,1,0,0],\n",
    "    [0,0,0,0,0],\n",
    "    [0,0,0,0,0],\n",
    "])\n",
    "a = heart.copy()\n",
    "a[a == 0] = 255\n",
    "plt.imshow(a, cmap=\"gray\")\n",
    "plt.axis('off')\n",
    "plt.show()\n",
    "digit, corr = test(heart, digits)\n",
    "print(f\"{digit=}, {corr=}\")"
   ]
  },
  {
   "cell_type": "code",
   "execution_count": 10,
   "metadata": {},
   "outputs": [
    {
     "data": {
      "image/png": "[encoded data removed]",
      "text/plain": [
       "<Figure size 640x480 with 1 Axes>"
      ]
     },
     "metadata": {},
     "output_type": "display_data"
    },
    {
     "name": "stdout",
     "output_type": "stream",
     "text": [
      "digit=0, corr=1.0\n"
     ]
    }
   ],
   "source": [
    "zero = np.array([\n",
    "    [0,1,1,1,0],\n",
    "    [1,0,0,0,1],\n",
    "    [1,0,0,0,1],\n",
    "    [1,0,0,0,1],\n",
    "    [1,0,0,0,1],\n",
    "    [1,0,0,0,1],\n",
    "    [0,1,1,1,0],\n",
    "])\n",
    "a = zero.copy()\n",
    "a[a == 0] = 255\n",
    "plt.imshow(a, cmap=\"gray\")\n",
    "plt.axis('off')\n",
    "plt.show()\n",
    "digit, corr = test(zero, digits)\n",
    "print(f\"{digit=}, {corr=}\")"
   ]
  },
  {
   "cell_type": "code",
   "execution_count": 11,
   "metadata": {},
   "outputs": [
    {
     "data": {
      "image/png": "[encoded data removed]",
      "text/plain": [
       "<Figure size 640x480 with 1 Axes>"
      ]
     },
     "metadata": {},
     "output_type": "display_data"
    },
    {
     "name": "stdout",
     "output_type": "stream",
     "text": [
      "digit=4, corr=0.23076923076923078\n"
     ]
    }
   ],
   "source": [
    "zero = np.array([\n",
    "    [0,1,0,1,0],\n",
    "    [0,1,0,1,0],\n",
    "    [0,1,0,1,0],\n",
    "    [0,0,0,0,0],\n",
    "    [1,0,0,0,1],\n",
    "    [0,1,1,1,0],\n",
    "    [0,0,1,1,0],\n",
    "])\n",
    "a = zero.copy()\n",
    "a[a == 0] = 255\n",
    "plt.imshow(a, cmap=\"gray\")\n",
    "plt.axis('off')\n",
    "plt.show()\n",
    "digit, corr = test(zero, digits)\n",
    "print(f\"{digit=}, {corr=}\")"
   ]
  },
  {
   "cell_type": "code",
   "execution_count": null,
   "metadata": {},
   "outputs": [
    {
     "data": {
      "image/png": "[encoded data removed]",
      "text/plain": [
       "<Figure size 640x480 with 1 Axes>"
      ]
     },
     "metadata": {},
     "output_type": "display_data"
    },
    {
     "name": "stdout",
     "output_type": "stream",
     "text": [
      "digit=4, corr=0.23076923076923078\n"
     ]
    }
   ],
   "source": [
    "zero = np.array([\n",
    "    [0,1,0,1,0],\n",
    "    [0,1,0,1,0],\n",
    "    [0,1,0,1,0],\n",
    "    [0,0,0,0,0],\n",
    "    [1,0,0,0,1],\n",
    "    [0,1,1,1,0],\n",
    "    [0,0,1,1,0],\n",
    "])\n",
    "a = zero.copy()\n",
    "a[a == 0] = 255\n",
    "plt.imshow(a, cmap=\"gray\")\n",
    "plt.axis('off')\n",
    "plt.show()\n",
    "digit, corr = test(zero, digits)\n",
    "print(f\"{digit=}, {corr=}\")"
   ]
  },
  {
   "attachments": {},
   "cell_type": "markdown",
   "metadata": {},
   "source": [
    "*GNG"
   ]
  },
  {
   "cell_type": "code",
   "execution_count": 10,
   "metadata": {},
   "outputs": [],
   "source": [
    "import numpy as np\n",
    "from scipy import spatial\n",
    "import networkx as nx\n",
    "import matplotlib.pyplot as plt\n",
    "from sklearn import decomposition\n",
    "\n",
    "\n",
    "class GrowingNeuralGas:\n",
    "\n",
    "    def __init__(self, input_data):\n",
    "        self.network = None\n",
    "        self.data = input_data\n",
    "        self.e_b = input_data[0]\n",
    "        self.e_n = input_data[1]\n",
    "        # (e_b=0.1, e_n=0.006, a_max=10, l=200, a=0.5, d=0.995, passes=8, plot_evolution=True)\n",
    "        self.units_created = 0\n",
    "        plt.style.use('ggplot')\n",
    "\n",
    "    def find_nearest_units(self, observation):\n",
    "        distance = []\n",
    "        for u, attributes in self.network.nodes(data=True):\n",
    "            vector = attributes['vector']\n",
    "            dist = spatial.distance.euclidean(vector, observation)\n",
    "            distance.append((u, dist))\n",
    "        distance.sort(key=lambda x: x[1])\n",
    "        ranking = [u for u, dist in distance]\n",
    "        return ranking\n",
    "\n",
    "    def prune_connections(self, a_max):\n",
    "        nodes_to_remove = []\n",
    "        for u, v, attributes in self.network.edges(data=True):\n",
    "            if attributes['age'] > a_max:\n",
    "                nodes_to_remove.append((u, v))\n",
    "        for u, v in nodes_to_remove:\n",
    "            self.network.remove_edge(u, v)\n",
    "\n",
    "        nodes_to_remove = []\n",
    "        for u in self.network.nodes():\n",
    "            if self.network.degree(u) == 0:\n",
    "                nodes_to_remove.append(u)\n",
    "        for u in nodes_to_remove:\n",
    "            self.network.remove_node(u)\n",
    "\n",
    "    def fit_network(self, e_b, e_n, a_max, l, a, d, passes=1, plot_evolution=False):\n",
    "        # logging variables\n",
    "        accumulated_local_error = []\n",
    "        global_error = []\n",
    "        network_order = []\n",
    "        network_size = []\n",
    "        total_units = []\n",
    "        self.units_created = 0\n",
    "        # 0. start with two units a and b at random position w_a and w_b\n",
    "        w_a = [np.random.uniform(-2, 2) for _ in range(np.shape(self.data)[1])]\n",
    "        w_b = [np.random.uniform(-2, 2) for _ in range(np.shape(self.data)[1])]\n",
    "        self.network = nx.Graph()\n",
    "        self.network.add_node(self.units_created, vector=w_a, error=0)\n",
    "        self.units_created += 1\n",
    "        self.network.add_node(self.units_created, vector=w_b, error=0)\n",
    "        self.units_created += 1\n",
    "        # 1. iterate through the data\n",
    "        sequence = 0\n",
    "        for p in range(passes):\n",
    "            print('   Pass #%d' % (p + 1))\n",
    "            np.random.shuffle(self.data)\n",
    "            steps = 0\n",
    "            for observation in self.data:\n",
    "                # 2. find the nearest unit s_1 and the second nearest unit s_2\n",
    "                nearest_units = self.find_nearest_units(observation)\n",
    "                s_1 = nearest_units[0]\n",
    "                s_2 = nearest_units[1]\n",
    "                # 3. increment the age of all edges emanating from s_1\n",
    "                for u, v, attributes in self.network.edges(data=True, nbunch=[s_1]):\n",
    "                    self.network.add_edge(u, v, age=attributes['age']+1)\n",
    "                # 4. add the squared distance between the observation and the nearest unit in input space\n",
    "                self.network.nodes[s_1]['error'] += spatial.distance.euclidean(observation, self.network.nodes[s_1]['vector'])**2\n",
    "                # 5 .move s_1 and its direct topological neighbors towards the observation by the fractions\n",
    "                #    e_b and e_n, respectively, of the total distance\n",
    "                update_w_s_1 = self.e_b * \\\n",
    "                    (np.subtract(observation,\n",
    "                                 self.network.nodes[s_1]['vector']))\n",
    "                self.network.nodes[s_1]['vector'] = np.add(\n",
    "                    self.network.nodes[s_1]['vector'], update_w_s_1)\n",
    "\n",
    "                for neighbor in self.network.neighbors(s_1):\n",
    "                    update_w_s_n = self.e_n * \\\n",
    "                        (np.subtract(observation,\n",
    "                                     self.network.nodes[neighbor]['vector']))\n",
    "                    self.network.nodes[neighbor]['vector'] = np.add(\n",
    "                        self.network.nodes[neighbor]['vector'], update_w_s_n)\n",
    "                # 6. if s_1 and s_2 are connected by an edge, set the age of this edge to zero\n",
    "                #    if such an edge doesn't exist, create it\n",
    "                self.network.add_edge(s_1, s_2, age=0)\n",
    "                # 7. remove edges with an age larger than a_max\n",
    "                #    if this results in units having no emanating edges, remove them as well\n",
    "                self.prune_connections(a_max)\n",
    "                # 8. if the number of steps so far is an integer multiple of parameter l, insert a new unit\n",
    "                steps += 1\n",
    "                if steps % l == 0:\n",
    "                    if plot_evolution:\n",
    "                        self.plot_network('visualization/sequence/' + str(sequence) + '.png')\n",
    "                    sequence += 1\n",
    "                    # 8.a determine the unit q with the maximum accumulated error\n",
    "                    q = 0\n",
    "                    error_max = 0\n",
    "                    for u in self.network.nodes():\n",
    "                        if self.network.nodes[u]['error'] > error_max:\n",
    "                            error_max = self.network.nodes[u]['error']\n",
    "                            q = u\n",
    "                    # 8.b insert a new unit r halfway between q and its neighbor f with the largest error variable\n",
    "                    f = -1\n",
    "                    largest_error = -1\n",
    "                    for u in self.network.neighbors(q):\n",
    "                        if self.network.nodes[u]['error'] > largest_error:\n",
    "                            largest_error = self.network.nodes[u]['error']\n",
    "                            f = u\n",
    "                    w_r = 0.5 * (np.add(self.network.nodes[q]['vector'], self.network.nodes[f]['vector']))\n",
    "                    r = self.units_created\n",
    "                    self.units_created += 1\n",
    "                    # 8.c insert edges connecting the new unit r with q and f\n",
    "                    #     remove the original edge between q and f\n",
    "                    self.network.add_node(r, vector=w_r, error=0)\n",
    "                    self.network.add_edge(r, q, age=0)\n",
    "                    self.network.add_edge(r, f, age=0)\n",
    "                    self.network.remove_edge(q, f)\n",
    "                    # 8.d decrease the error variables of q and f by multiplying them with a\n",
    "                    #     initialize the error variable of r with the new value of the error variable of q\n",
    "                    self.network.nodes[q]['error'] *= a\n",
    "                    self.network.nodes[f]['error'] *= a\n",
    "                    self.network.nodes[r]['error'] = self.network.nodes[q]['error']\n",
    "                # 9. decrease all error variables by multiplying them with a constant d\n",
    "                error = 0\n",
    "                for u in self.network.nodes():\n",
    "                    error += self.network.nodes[u]['error']\n",
    "                accumulated_local_error.append(error)\n",
    "                network_order.append(self.network.order())\n",
    "                network_size.append(self.network.size())\n",
    "                total_units.append(self.units_created)\n",
    "                for u in self.network.nodes():\n",
    "                    self.network.nodes[u]['error'] *= d\n",
    "                    if self.network.degree(nbunch=[u]) == 0:\n",
    "                        print(u)\n",
    "            global_error.append(self.compute_global_error())\n",
    "        plt.clf()\n",
    "        plt.title('Accumulated local error')\n",
    "        plt.xlabel('iterations')\n",
    "        plt.plot(range(len(accumulated_local_error)), accumulated_local_error)\n",
    "        plt.savefig('visualization/accumulated_local_error.png')\n",
    "        plt.clf()\n",
    "        plt.title('Global error')\n",
    "        plt.xlabel('passes')\n",
    "        plt.plot(range(len(global_error)), global_error)\n",
    "        plt.savefig('visualization/global_error.png')\n",
    "        plt.clf()\n",
    "        plt.title('Neural network properties')\n",
    "        plt.plot(range(len(network_order)), network_order, label='Network order')\n",
    "        plt.plot(range(len(network_size)), network_size, label='Network size')\n",
    "        plt.legend()\n",
    "        plt.savefig('visualization/network_properties.png')\n",
    "\n",
    "    def plot_network(self, file_path):\n",
    "        plt.clf()\n",
    "        plt.scatter(self.data[:, 0], self.data[:, 1])\n",
    "        node_pos = {}\n",
    "        for u in self.network.nodes():\n",
    "            vector = self.network.nodes[u]['vector']\n",
    "            node_pos[u] = (vector[0], vector[1])\n",
    "        nx.draw(self.network, pos=node_pos)\n",
    "        plt.draw()\n",
    "        plt.savefig(file_path)\n",
    "\n",
    "    def number_of_clusters(self):\n",
    "        return nx.number_connected_components(self.network)\n",
    "\n",
    "    def cluster_data(self):\n",
    "        unit_to_cluster = np.zeros(self.units_created)\n",
    "        cluster = 0\n",
    "        for c in nx.connected_components(self.network):\n",
    "            for unit in c:\n",
    "                unit_to_cluster[unit] = cluster\n",
    "            cluster += 1\n",
    "        clustered_data = []\n",
    "        for observation in self.data:\n",
    "            nearest_units = self.find_nearest_units(observation)\n",
    "            s = nearest_units[0]\n",
    "            clustered_data.append((observation, unit_to_cluster[s]))\n",
    "        return clustered_data\n",
    "\n",
    "    def reduce_dimension(self, clustered_data):\n",
    "        transformed_clustered_data = []\n",
    "        svd = decomposition.PCA(n_components=2)\n",
    "        transformed_observations = svd.fit_transform(self.data)\n",
    "        for i in range(len(clustered_data)):\n",
    "            transformed_clustered_data.append((transformed_observations[i], clustered_data[i][1]))\n",
    "        return transformed_clustered_data\n",
    "\n",
    "    def plot_clusters(self, clustered_data):\n",
    "        number_of_clusters = nx.number_connected_components(self.network)\n",
    "        plt.clf()\n",
    "        plt.title('Cluster affectation')\n",
    "        color = ['r', 'b', 'g', 'k', 'm', 'r', 'b', 'g', 'k', 'm']\n",
    "        for i in range(number_of_clusters):\n",
    "            observations = [observation for observation, s in clustered_data if s == i]\n",
    "            if len(observations) > 0:\n",
    "                observations = np.array(observations)\n",
    "                plt.scatter(observations[:, 0], observations[:, 1], color=color[i], label='cluster #'+str(i))\n",
    "        plt.legend()\n",
    "        plt.savefig('visualization/clusters.png')\n",
    "\n",
    "    def compute_global_error(self):\n",
    "        global_error = 0\n",
    "        for observation in self.data:\n",
    "            nearest_units = self.find_nearest_units(observation)\n",
    "            s_1 = nearest_units[0]\n",
    "            global_error += spatial.distance.euclidean(observation, self.network.nodes[s_1]['vector'])**2\n",
    "        return global_error\n"
   ]
  },
  {
   "cell_type": "code",
   "execution_count": 11,
   "metadata": {},
   "outputs": [
    {
     "name": "stdout",
     "output_type": "stream",
     "text": [
      "Preparing data...\n",
      "Done.\n",
      "Fitting neural network...\n",
      "   Pass #1\n"
     ]
    },
    {
     "ename": "OverflowError",
     "evalue": "(34, 'Result too large')",
     "output_type": "error",
     "traceback": [
      "\u001b[1;31m---------------------------------------------------------------------------\u001b[0m",
      "\u001b[1;31mOverflowError\u001b[0m                             Traceback (most recent call last)",
      "\u001b[1;32md:\\Универ\\Магистратура\\1 курс\\2 семестр\\Цифровая обработка изображений\\lab12.ipynb Cell 16\u001b[0m in \u001b[0;36m2\n\u001b[0;32m     <a href='vscode-notebook-cell:/d%3A/%D0%A3%D0%BD%D0%B8%D0%B2%D0%B5%D1%80/%D0%9C%D0%B0%D0%B3%D0%B8%D1%81%D1%82%D1%80%D0%B0%D1%82%D1%83%D1%80%D0%B0/1%20%D0%BA%D1%83%D1%80%D1%81/2%20%D1%81%D0%B5%D0%BC%D0%B5%D1%81%D1%82%D1%80/%D0%A6%D0%B8%D1%84%D1%80%D0%BE%D0%B2%D0%B0%D1%8F%20%D0%BE%D0%B1%D1%80%D0%B0%D0%B1%D0%BE%D1%82%D0%BA%D0%B0%20%D0%B8%D0%B7%D0%BE%D0%B1%D1%80%D0%B0%D0%B6%D0%B5%D0%BD%D0%B8%D0%B9/lab12.ipynb#X21sZmlsZQ%3D%3D?line=20'>21</a>\u001b[0m \u001b[39mprint\u001b[39m(\u001b[39m'\u001b[39m\u001b[39mFitting neural network...\u001b[39m\u001b[39m'\u001b[39m)\n\u001b[0;32m     <a href='vscode-notebook-cell:/d%3A/%D0%A3%D0%BD%D0%B8%D0%B2%D0%B5%D1%80/%D0%9C%D0%B0%D0%B3%D0%B8%D1%81%D1%82%D1%80%D0%B0%D1%82%D1%83%D1%80%D0%B0/1%20%D0%BA%D1%83%D1%80%D1%81/2%20%D1%81%D0%B5%D0%BC%D0%B5%D1%81%D1%82%D1%80/%D0%A6%D0%B8%D1%84%D1%80%D0%BE%D0%B2%D0%B0%D1%8F%20%D0%BE%D0%B1%D1%80%D0%B0%D0%B1%D0%BE%D1%82%D0%BA%D0%B0%20%D0%B8%D0%B7%D0%BE%D0%B1%D1%80%D0%B0%D0%B6%D0%B5%D0%BD%D0%B8%D0%B9/lab12.ipynb#X21sZmlsZQ%3D%3D?line=21'>22</a>\u001b[0m gng \u001b[39m=\u001b[39m GrowingNeuralGas(data)\n\u001b[1;32m---> <a href='vscode-notebook-cell:/d%3A/%D0%A3%D0%BD%D0%B8%D0%B2%D0%B5%D1%80/%D0%9C%D0%B0%D0%B3%D0%B8%D1%81%D1%82%D1%80%D0%B0%D1%82%D1%83%D1%80%D0%B0/1%20%D0%BA%D1%83%D1%80%D1%81/2%20%D1%81%D0%B5%D0%BC%D0%B5%D1%81%D1%82%D1%80/%D0%A6%D0%B8%D1%84%D1%80%D0%BE%D0%B2%D0%B0%D1%8F%20%D0%BE%D0%B1%D1%80%D0%B0%D0%B1%D0%BE%D1%82%D0%BA%D0%B0%20%D0%B8%D0%B7%D0%BE%D0%B1%D1%80%D0%B0%D0%B6%D0%B5%D0%BD%D0%B8%D0%B9/lab12.ipynb#X21sZmlsZQ%3D%3D?line=22'>23</a>\u001b[0m gng\u001b[39m.\u001b[39;49mfit_network(e_b\u001b[39m=\u001b[39;49m\u001b[39m0.1\u001b[39;49m, e_n\u001b[39m=\u001b[39;49m\u001b[39m0.006\u001b[39;49m, a_max\u001b[39m=\u001b[39;49m\u001b[39m10\u001b[39;49m, l\u001b[39m=\u001b[39;49m\u001b[39m200\u001b[39;49m, a\u001b[39m=\u001b[39;49m\u001b[39m0.5\u001b[39;49m, d\u001b[39m=\u001b[39;49m\u001b[39m0.995\u001b[39;49m, passes\u001b[39m=\u001b[39;49m\u001b[39m8\u001b[39;49m, plot_evolution\u001b[39m=\u001b[39;49m\u001b[39mTrue\u001b[39;49;00m)\n\u001b[0;32m     <a href='vscode-notebook-cell:/d%3A/%D0%A3%D0%BD%D0%B8%D0%B2%D0%B5%D1%80/%D0%9C%D0%B0%D0%B3%D0%B8%D1%81%D1%82%D1%80%D0%B0%D1%82%D1%83%D1%80%D0%B0/1%20%D0%BA%D1%83%D1%80%D1%81/2%20%D1%81%D0%B5%D0%BC%D0%B5%D1%81%D1%82%D1%80/%D0%A6%D0%B8%D1%84%D1%80%D0%BE%D0%B2%D0%B0%D1%8F%20%D0%BE%D0%B1%D1%80%D0%B0%D0%B1%D0%BE%D1%82%D0%BA%D0%B0%20%D0%B8%D0%B7%D0%BE%D0%B1%D1%80%D0%B0%D0%B6%D0%B5%D0%BD%D0%B8%D0%B9/lab12.ipynb#X21sZmlsZQ%3D%3D?line=23'>24</a>\u001b[0m \u001b[39mprint\u001b[39m(\u001b[39m'\u001b[39m\u001b[39mFound \u001b[39m\u001b[39m%d\u001b[39;00m\u001b[39m clusters.\u001b[39m\u001b[39m'\u001b[39m \u001b[39m%\u001b[39m gng\u001b[39m.\u001b[39mnumber_of_clusters())\n\u001b[0;32m     <a href='vscode-notebook-cell:/d%3A/%D0%A3%D0%BD%D0%B8%D0%B2%D0%B5%D1%80/%D0%9C%D0%B0%D0%B3%D0%B8%D1%81%D1%82%D1%80%D0%B0%D1%82%D1%83%D1%80%D0%B0/1%20%D0%BA%D1%83%D1%80%D1%81/2%20%D1%81%D0%B5%D0%BC%D0%B5%D1%81%D1%82%D1%80/%D0%A6%D0%B8%D1%84%D1%80%D0%BE%D0%B2%D0%B0%D1%8F%20%D0%BE%D0%B1%D1%80%D0%B0%D0%B1%D0%BE%D1%82%D0%BA%D0%B0%20%D0%B8%D0%B7%D0%BE%D0%B1%D1%80%D0%B0%D0%B6%D0%B5%D0%BD%D0%B8%D0%B9/lab12.ipynb#X21sZmlsZQ%3D%3D?line=24'>25</a>\u001b[0m gng\u001b[39m.\u001b[39mplot_clusters(gng\u001b[39m.\u001b[39mcluster_data())\n",
      "\u001b[1;32md:\\Универ\\Магистратура\\1 курс\\2 семестр\\Цифровая обработка изображений\\lab12.ipynb Cell 16\u001b[0m in \u001b[0;36m7\n\u001b[0;32m     <a href='vscode-notebook-cell:/d%3A/%D0%A3%D0%BD%D0%B8%D0%B2%D0%B5%D1%80/%D0%9C%D0%B0%D0%B3%D0%B8%D1%81%D1%82%D1%80%D0%B0%D1%82%D1%83%D1%80%D0%B0/1%20%D0%BA%D1%83%D1%80%D1%81/2%20%D1%81%D0%B5%D0%BC%D0%B5%D1%81%D1%82%D1%80/%D0%A6%D0%B8%D1%84%D1%80%D0%BE%D0%B2%D0%B0%D1%8F%20%D0%BE%D0%B1%D1%80%D0%B0%D0%B1%D0%BE%D1%82%D0%BA%D0%B0%20%D0%B8%D0%B7%D0%BE%D0%B1%D1%80%D0%B0%D0%B6%D0%B5%D0%BD%D0%B8%D0%B9/lab12.ipynb#X21sZmlsZQ%3D%3D?line=72'>73</a>\u001b[0m     \u001b[39mself\u001b[39m\u001b[39m.\u001b[39mnetwork\u001b[39m.\u001b[39madd_edge(u, v, age\u001b[39m=\u001b[39mattributes[\u001b[39m'\u001b[39m\u001b[39mage\u001b[39m\u001b[39m'\u001b[39m]\u001b[39m+\u001b[39m\u001b[39m1\u001b[39m)\n\u001b[0;32m     <a href='vscode-notebook-cell:/d%3A/%D0%A3%D0%BD%D0%B8%D0%B2%D0%B5%D1%80/%D0%9C%D0%B0%D0%B3%D0%B8%D1%81%D1%82%D1%80%D0%B0%D1%82%D1%83%D1%80%D0%B0/1%20%D0%BA%D1%83%D1%80%D1%81/2%20%D1%81%D0%B5%D0%BC%D0%B5%D1%81%D1%82%D1%80/%D0%A6%D0%B8%D1%84%D1%80%D0%BE%D0%B2%D0%B0%D1%8F%20%D0%BE%D0%B1%D1%80%D0%B0%D0%B1%D0%BE%D1%82%D0%BA%D0%B0%20%D0%B8%D0%B7%D0%BE%D0%B1%D1%80%D0%B0%D0%B6%D0%B5%D0%BD%D0%B8%D0%B9/lab12.ipynb#X21sZmlsZQ%3D%3D?line=73'>74</a>\u001b[0m \u001b[39m# 4. add the squared distance between the observation and the nearest unit in input space\u001b[39;00m\n\u001b[1;32m---> <a href='vscode-notebook-cell:/d%3A/%D0%A3%D0%BD%D0%B8%D0%B2%D0%B5%D1%80/%D0%9C%D0%B0%D0%B3%D0%B8%D1%81%D1%82%D1%80%D0%B0%D1%82%D1%83%D1%80%D0%B0/1%20%D0%BA%D1%83%D1%80%D1%81/2%20%D1%81%D0%B5%D0%BC%D0%B5%D1%81%D1%82%D1%80/%D0%A6%D0%B8%D1%84%D1%80%D0%BE%D0%B2%D0%B0%D1%8F%20%D0%BE%D0%B1%D1%80%D0%B0%D0%B1%D0%BE%D1%82%D0%BA%D0%B0%20%D0%B8%D0%B7%D0%BE%D0%B1%D1%80%D0%B0%D0%B6%D0%B5%D0%BD%D0%B8%D0%B9/lab12.ipynb#X21sZmlsZQ%3D%3D?line=74'>75</a>\u001b[0m \u001b[39mself\u001b[39m\u001b[39m.\u001b[39mnetwork\u001b[39m.\u001b[39mnodes[s_1][\u001b[39m'\u001b[39m\u001b[39merror\u001b[39m\u001b[39m'\u001b[39m] \u001b[39m+\u001b[39m\u001b[39m=\u001b[39m spatial\u001b[39m.\u001b[39;49mdistance\u001b[39m.\u001b[39;49meuclidean(observation, \u001b[39mself\u001b[39;49m\u001b[39m.\u001b[39;49mnetwork\u001b[39m.\u001b[39;49mnodes[s_1][\u001b[39m'\u001b[39;49m\u001b[39mvector\u001b[39;49m\u001b[39m'\u001b[39;49m])\u001b[39m*\u001b[39;49m\u001b[39m*\u001b[39;49m\u001b[39m2\u001b[39;49m\n\u001b[0;32m     <a href='vscode-notebook-cell:/d%3A/%D0%A3%D0%BD%D0%B8%D0%B2%D0%B5%D1%80/%D0%9C%D0%B0%D0%B3%D0%B8%D1%81%D1%82%D1%80%D0%B0%D1%82%D1%83%D1%80%D0%B0/1%20%D0%BA%D1%83%D1%80%D1%81/2%20%D1%81%D0%B5%D0%BC%D0%B5%D1%81%D1%82%D1%80/%D0%A6%D0%B8%D1%84%D1%80%D0%BE%D0%B2%D0%B0%D1%8F%20%D0%BE%D0%B1%D1%80%D0%B0%D0%B1%D0%BE%D1%82%D0%BA%D0%B0%20%D0%B8%D0%B7%D0%BE%D0%B1%D1%80%D0%B0%D0%B6%D0%B5%D0%BD%D0%B8%D0%B9/lab12.ipynb#X21sZmlsZQ%3D%3D?line=75'>76</a>\u001b[0m \u001b[39m# 5 .move s_1 and its direct topological neighbors towards the observation by the fractions\u001b[39;00m\n\u001b[0;32m     <a href='vscode-notebook-cell:/d%3A/%D0%A3%D0%BD%D0%B8%D0%B2%D0%B5%D1%80/%D0%9C%D0%B0%D0%B3%D0%B8%D1%81%D1%82%D1%80%D0%B0%D1%82%D1%83%D1%80%D0%B0/1%20%D0%BA%D1%83%D1%80%D1%81/2%20%D1%81%D0%B5%D0%BC%D0%B5%D1%81%D1%82%D1%80/%D0%A6%D0%B8%D1%84%D1%80%D0%BE%D0%B2%D0%B0%D1%8F%20%D0%BE%D0%B1%D1%80%D0%B0%D0%B1%D0%BE%D1%82%D0%BA%D0%B0%20%D0%B8%D0%B7%D0%BE%D0%B1%D1%80%D0%B0%D0%B6%D0%B5%D0%BD%D0%B8%D0%B9/lab12.ipynb#X21sZmlsZQ%3D%3D?line=76'>77</a>\u001b[0m \u001b[39m#    e_b and e_n, respectively, of the total distance\u001b[39;00m\n\u001b[0;32m     <a href='vscode-notebook-cell:/d%3A/%D0%A3%D0%BD%D0%B8%D0%B2%D0%B5%D1%80/%D0%9C%D0%B0%D0%B3%D0%B8%D1%81%D1%82%D1%80%D0%B0%D1%82%D1%83%D1%80%D0%B0/1%20%D0%BA%D1%83%D1%80%D1%81/2%20%D1%81%D0%B5%D0%BC%D0%B5%D1%81%D1%82%D1%80/%D0%A6%D0%B8%D1%84%D1%80%D0%BE%D0%B2%D0%B0%D1%8F%20%D0%BE%D0%B1%D1%80%D0%B0%D0%B1%D0%BE%D1%82%D0%BA%D0%B0%20%D0%B8%D0%B7%D0%BE%D0%B1%D1%80%D0%B0%D0%B6%D0%B5%D0%BD%D0%B8%D0%B9/lab12.ipynb#X21sZmlsZQ%3D%3D?line=77'>78</a>\u001b[0m update_w_s_1 \u001b[39m=\u001b[39m \u001b[39mself\u001b[39m\u001b[39m.\u001b[39me_b \u001b[39m*\u001b[39m \\\n\u001b[0;32m     <a href='vscode-notebook-cell:/d%3A/%D0%A3%D0%BD%D0%B8%D0%B2%D0%B5%D1%80/%D0%9C%D0%B0%D0%B3%D0%B8%D1%81%D1%82%D1%80%D0%B0%D1%82%D1%83%D1%80%D0%B0/1%20%D0%BA%D1%83%D1%80%D1%81/2%20%D1%81%D0%B5%D0%BC%D0%B5%D1%81%D1%82%D1%80/%D0%A6%D0%B8%D1%84%D1%80%D0%BE%D0%B2%D0%B0%D1%8F%20%D0%BE%D0%B1%D1%80%D0%B0%D0%B1%D0%BE%D1%82%D0%BA%D0%B0%20%D0%B8%D0%B7%D0%BE%D0%B1%D1%80%D0%B0%D0%B6%D0%B5%D0%BD%D0%B8%D0%B9/lab12.ipynb#X21sZmlsZQ%3D%3D?line=78'>79</a>\u001b[0m     (np\u001b[39m.\u001b[39msubtract(observation,\n\u001b[0;32m     <a href='vscode-notebook-cell:/d%3A/%D0%A3%D0%BD%D0%B8%D0%B2%D0%B5%D1%80/%D0%9C%D0%B0%D0%B3%D0%B8%D1%81%D1%82%D1%80%D0%B0%D1%82%D1%83%D1%80%D0%B0/1%20%D0%BA%D1%83%D1%80%D1%81/2%20%D1%81%D0%B5%D0%BC%D0%B5%D1%81%D1%82%D1%80/%D0%A6%D0%B8%D1%84%D1%80%D0%BE%D0%B2%D0%B0%D1%8F%20%D0%BE%D0%B1%D1%80%D0%B0%D0%B1%D0%BE%D1%82%D0%BA%D0%B0%20%D0%B8%D0%B7%D0%BE%D0%B1%D1%80%D0%B0%D0%B6%D0%B5%D0%BD%D0%B8%D0%B9/lab12.ipynb#X21sZmlsZQ%3D%3D?line=79'>80</a>\u001b[0m                  \u001b[39mself\u001b[39m\u001b[39m.\u001b[39mnetwork\u001b[39m.\u001b[39mnodes[s_1][\u001b[39m'\u001b[39m\u001b[39mvector\u001b[39m\u001b[39m'\u001b[39m]))\n",
      "\u001b[1;31mOverflowError\u001b[0m: (34, 'Result too large')"
     ]
    },
    {
     "data": {
      "image/png": "[encoded data removed]",
      "text/plain": [
       "<Figure size 640x480 with 1 Axes>"
      ]
     },
     "metadata": {},
     "output_type": "display_data"
    }
   ],
   "source": [
    "from sklearn import datasets\n",
    "from sklearn.preprocessing import StandardScaler\n",
    "import os\n",
    "import shutil\n",
    "\n",
    "if os.path.exists('visualization/sequence'):\n",
    "    shutil.rmtree('visualization/sequence')\n",
    "os.makedirs('visualization/sequence')\n",
    "n_samples = 2000\n",
    "dataset_type = 'moons'\n",
    "data = None\n",
    "print('Preparing data...')\n",
    "if dataset_type == 'blobs':\n",
    "    data = datasets.make_blobs(n_samples=n_samples, random_state=8)\n",
    "elif dataset_type == 'moons':\n",
    "    data = datasets.make_moons(n_samples=n_samples, noise=.05)\n",
    "elif dataset_type == 'circles':\n",
    "    data = datasets.make_circles(n_samples=n_samples, factor=.5, noise=.05)\n",
    "data = StandardScaler().fit_transform(data[0])\n",
    "print('Done.')\n",
    "print('Fitting neural network...')\n",
    "gng = GrowingNeuralGas(data)\n",
    "gng.fit_network(e_b=0.1, e_n=0.006, a_max=10, l=200, a=0.5, d=0.995, passes=8, plot_evolution=True)\n",
    "print('Found %d clusters.' % gng.number_of_clusters())\n",
    "gng.plot_clusters(gng.cluster_data())"
   ]
  },
  {
   "cell_type": "code",
   "execution_count": 16,
   "metadata": {},
   "outputs": [
    {
     "name": "stdout",
     "output_type": "stream",
     "text": [
      "   Pass #1\n",
      "   Pass #2\n",
      "   Pass #3\n"
     ]
    },
    {
     "ename": "OverflowError",
     "evalue": "(34, 'Result too large')",
     "output_type": "error",
     "traceback": [
      "\u001b[1;31m---------------------------------------------------------------------------\u001b[0m",
      "\u001b[1;31mOverflowError\u001b[0m                             Traceback (most recent call last)",
      "\u001b[1;32md:\\Универ\\Магистратура\\1 курс\\2 семестр\\Цифровая обработка изображений\\lab12.ipynb Cell 17\u001b[0m in \u001b[0;36m1\n\u001b[0;32m     <a href='vscode-notebook-cell:/d%3A/%D0%A3%D0%BD%D0%B8%D0%B2%D0%B5%D1%80/%D0%9C%D0%B0%D0%B3%D0%B8%D1%81%D1%82%D1%80%D0%B0%D1%82%D1%83%D1%80%D0%B0/1%20%D0%BA%D1%83%D1%80%D1%81/2%20%D1%81%D0%B5%D0%BC%D0%B5%D1%81%D1%82%D1%80/%D0%A6%D0%B8%D1%84%D1%80%D0%BE%D0%B2%D0%B0%D1%8F%20%D0%BE%D0%B1%D1%80%D0%B0%D0%B1%D0%BE%D1%82%D0%BA%D0%B0%20%D0%B8%D0%B7%D0%BE%D0%B1%D1%80%D0%B0%D0%B6%D0%B5%D0%BD%D0%B8%D0%B9/lab12.ipynb#X20sZmlsZQ%3D%3D?line=15'>16</a>\u001b[0m     \u001b[39mprint\u001b[39m(homogeneity)\n\u001b[0;32m     <a href='vscode-notebook-cell:/d%3A/%D0%A3%D0%BD%D0%B8%D0%B2%D0%B5%D1%80/%D0%9C%D0%B0%D0%B3%D0%B8%D1%81%D1%82%D1%80%D0%B0%D1%82%D1%83%D1%80%D0%B0/1%20%D0%BA%D1%83%D1%80%D1%81/2%20%D1%81%D0%B5%D0%BC%D0%B5%D1%81%D1%82%D1%80/%D0%A6%D0%B8%D1%84%D1%80%D0%BE%D0%B2%D0%B0%D1%8F%20%D0%BE%D0%B1%D1%80%D0%B0%D0%B1%D0%BE%D1%82%D0%BA%D0%B0%20%D0%B8%D0%B7%D0%BE%D0%B1%D1%80%D0%B0%D0%B6%D0%B5%D0%BD%D0%B8%D0%B9/lab12.ipynb#X20sZmlsZQ%3D%3D?line=16'>17</a>\u001b[0m     gng\u001b[39m.\u001b[39mplot_clusters(gng\u001b[39m.\u001b[39mreduce_dimension(gng\u001b[39m.\u001b[39mcluster_data()))\n\u001b[1;32m---> <a href='vscode-notebook-cell:/d%3A/%D0%A3%D0%BD%D0%B8%D0%B2%D0%B5%D1%80/%D0%9C%D0%B0%D0%B3%D0%B8%D1%81%D1%82%D1%80%D0%B0%D1%82%D1%83%D1%80%D0%B0/1%20%D0%BA%D1%83%D1%80%D1%81/2%20%D1%81%D0%B5%D0%BC%D0%B5%D1%81%D1%82%D1%80/%D0%A6%D0%B8%D1%84%D1%80%D0%BE%D0%B2%D0%B0%D1%8F%20%D0%BE%D0%B1%D1%80%D0%B0%D0%B1%D0%BE%D1%82%D0%BA%D0%B0%20%D0%B8%D0%B7%D0%BE%D0%B1%D1%80%D0%B0%D0%B6%D0%B5%D0%BD%D0%B8%D0%B9/lab12.ipynb#X20sZmlsZQ%3D%3D?line=18'>19</a>\u001b[0m evaluate_on_digits()\n",
      "\u001b[1;32md:\\Универ\\Магистратура\\1 курс\\2 семестр\\Цифровая обработка изображений\\lab12.ipynb Cell 17\u001b[0m in \u001b[0;36m9\n\u001b[0;32m      <a href='vscode-notebook-cell:/d%3A/%D0%A3%D0%BD%D0%B8%D0%B2%D0%B5%D1%80/%D0%9C%D0%B0%D0%B3%D0%B8%D1%81%D1%82%D1%80%D0%B0%D1%82%D1%83%D1%80%D0%B0/1%20%D0%BA%D1%83%D1%80%D1%81/2%20%D1%81%D0%B5%D0%BC%D0%B5%D1%81%D1%82%D1%80/%D0%A6%D0%B8%D1%84%D1%80%D0%BE%D0%B2%D0%B0%D1%8F%20%D0%BE%D0%B1%D1%80%D0%B0%D0%B1%D0%BE%D1%82%D0%BA%D0%B0%20%D0%B8%D0%B7%D0%BE%D0%B1%D1%80%D0%B0%D0%B6%D0%B5%D0%BD%D0%B8%D0%B9/lab12.ipynb#X20sZmlsZQ%3D%3D?line=6'>7</a>\u001b[0m target \u001b[39m=\u001b[39m digits\u001b[39m.\u001b[39mtarget[:\u001b[39m50\u001b[39m]\n\u001b[0;32m      <a href='vscode-notebook-cell:/d%3A/%D0%A3%D0%BD%D0%B8%D0%B2%D0%B5%D1%80/%D0%9C%D0%B0%D0%B3%D0%B8%D1%81%D1%82%D1%80%D0%B0%D1%82%D1%83%D1%80%D0%B0/1%20%D0%BA%D1%83%D1%80%D1%81/2%20%D1%81%D0%B5%D0%BC%D0%B5%D1%81%D1%82%D1%80/%D0%A6%D0%B8%D1%84%D1%80%D0%BE%D0%B2%D0%B0%D1%8F%20%D0%BE%D0%B1%D1%80%D0%B0%D0%B1%D0%BE%D1%82%D0%BA%D0%B0%20%D0%B8%D0%B7%D0%BE%D0%B1%D1%80%D0%B0%D0%B6%D0%B5%D0%BD%D0%B8%D0%B9/lab12.ipynb#X20sZmlsZQ%3D%3D?line=7'>8</a>\u001b[0m gng \u001b[39m=\u001b[39m GrowingNeuralGas(data)\n\u001b[1;32m----> <a href='vscode-notebook-cell:/d%3A/%D0%A3%D0%BD%D0%B8%D0%B2%D0%B5%D1%80/%D0%9C%D0%B0%D0%B3%D0%B8%D1%81%D1%82%D1%80%D0%B0%D1%82%D1%83%D1%80%D0%B0/1%20%D0%BA%D1%83%D1%80%D1%81/2%20%D1%81%D0%B5%D0%BC%D0%B5%D1%81%D1%82%D1%80/%D0%A6%D0%B8%D1%84%D1%80%D0%BE%D0%B2%D0%B0%D1%8F%20%D0%BE%D0%B1%D1%80%D0%B0%D0%B1%D0%BE%D1%82%D0%BA%D0%B0%20%D0%B8%D0%B7%D0%BE%D0%B1%D1%80%D0%B0%D0%B6%D0%B5%D0%BD%D0%B8%D0%B9/lab12.ipynb#X20sZmlsZQ%3D%3D?line=8'>9</a>\u001b[0m gng\u001b[39m.\u001b[39;49mfit_network(e_b\u001b[39m=\u001b[39;49m\u001b[39m0.05\u001b[39;49m, e_n\u001b[39m=\u001b[39;49m\u001b[39m0.006\u001b[39;49m, a_max\u001b[39m=\u001b[39;49m\u001b[39m8\u001b[39;49m, l\u001b[39m=\u001b[39;49m\u001b[39m100\u001b[39;49m, a\u001b[39m=\u001b[39;49m\u001b[39m0.5\u001b[39;49m, d\u001b[39m=\u001b[39;49m\u001b[39m0.995\u001b[39;49m, passes\u001b[39m=\u001b[39;49m\u001b[39m5\u001b[39;49m, plot_evolution\u001b[39m=\u001b[39;49m\u001b[39mFalse\u001b[39;49;00m)\n\u001b[0;32m     <a href='vscode-notebook-cell:/d%3A/%D0%A3%D0%BD%D0%B8%D0%B2%D0%B5%D1%80/%D0%9C%D0%B0%D0%B3%D0%B8%D1%81%D1%82%D1%80%D0%B0%D1%82%D1%83%D1%80%D0%B0/1%20%D0%BA%D1%83%D1%80%D1%81/2%20%D1%81%D0%B5%D0%BC%D0%B5%D1%81%D1%82%D1%80/%D0%A6%D0%B8%D1%84%D1%80%D0%BE%D0%B2%D0%B0%D1%8F%20%D0%BE%D0%B1%D1%80%D0%B0%D0%B1%D0%BE%D1%82%D0%BA%D0%B0%20%D0%B8%D0%B7%D0%BE%D0%B1%D1%80%D0%B0%D0%B6%D0%B5%D0%BD%D0%B8%D0%B9/lab12.ipynb#X20sZmlsZQ%3D%3D?line=9'>10</a>\u001b[0m clustered_data \u001b[39m=\u001b[39m gng\u001b[39m.\u001b[39mcluster_data()\n\u001b[0;32m     <a href='vscode-notebook-cell:/d%3A/%D0%A3%D0%BD%D0%B8%D0%B2%D0%B5%D1%80/%D0%9C%D0%B0%D0%B3%D0%B8%D1%81%D1%82%D1%80%D0%B0%D1%82%D1%83%D1%80%D0%B0/1%20%D0%BA%D1%83%D1%80%D1%81/2%20%D1%81%D0%B5%D0%BC%D0%B5%D1%81%D1%82%D1%80/%D0%A6%D0%B8%D1%84%D1%80%D0%BE%D0%B2%D0%B0%D1%8F%20%D0%BE%D0%B1%D1%80%D0%B0%D0%B1%D0%BE%D1%82%D0%BA%D0%B0%20%D0%B8%D0%B7%D0%BE%D0%B1%D1%80%D0%B0%D0%B6%D0%B5%D0%BD%D0%B8%D0%B9/lab12.ipynb#X20sZmlsZQ%3D%3D?line=10'>11</a>\u001b[0m \u001b[39mprint\u001b[39m(\u001b[39m'\u001b[39m\u001b[39mFound \u001b[39m\u001b[39m%d\u001b[39;00m\u001b[39m clusters.\u001b[39m\u001b[39m'\u001b[39m \u001b[39m%\u001b[39m nx\u001b[39m.\u001b[39mnumber_connected_components(gng\u001b[39m.\u001b[39mnetwork))\n",
      "\u001b[1;32md:\\Универ\\Магистратура\\1 курс\\2 семестр\\Цифровая обработка изображений\\lab12.ipynb Cell 17\u001b[0m in \u001b[0;36m7\n\u001b[0;32m     <a href='vscode-notebook-cell:/d%3A/%D0%A3%D0%BD%D0%B8%D0%B2%D0%B5%D1%80/%D0%9C%D0%B0%D0%B3%D0%B8%D1%81%D1%82%D1%80%D0%B0%D1%82%D1%83%D1%80%D0%B0/1%20%D0%BA%D1%83%D1%80%D1%81/2%20%D1%81%D0%B5%D0%BC%D0%B5%D1%81%D1%82%D1%80/%D0%A6%D0%B8%D1%84%D1%80%D0%BE%D0%B2%D0%B0%D1%8F%20%D0%BE%D0%B1%D1%80%D0%B0%D0%B1%D0%BE%D1%82%D0%BA%D0%B0%20%D0%B8%D0%B7%D0%BE%D0%B1%D1%80%D0%B0%D0%B6%D0%B5%D0%BD%D0%B8%D0%B9/lab12.ipynb#X20sZmlsZQ%3D%3D?line=72'>73</a>\u001b[0m     \u001b[39mself\u001b[39m\u001b[39m.\u001b[39mnetwork\u001b[39m.\u001b[39madd_edge(u, v, age\u001b[39m=\u001b[39mattributes[\u001b[39m'\u001b[39m\u001b[39mage\u001b[39m\u001b[39m'\u001b[39m]\u001b[39m+\u001b[39m\u001b[39m1\u001b[39m)\n\u001b[0;32m     <a href='vscode-notebook-cell:/d%3A/%D0%A3%D0%BD%D0%B8%D0%B2%D0%B5%D1%80/%D0%9C%D0%B0%D0%B3%D0%B8%D1%81%D1%82%D1%80%D0%B0%D1%82%D1%83%D1%80%D0%B0/1%20%D0%BA%D1%83%D1%80%D1%81/2%20%D1%81%D0%B5%D0%BC%D0%B5%D1%81%D1%82%D1%80/%D0%A6%D0%B8%D1%84%D1%80%D0%BE%D0%B2%D0%B0%D1%8F%20%D0%BE%D0%B1%D1%80%D0%B0%D0%B1%D0%BE%D1%82%D0%BA%D0%B0%20%D0%B8%D0%B7%D0%BE%D0%B1%D1%80%D0%B0%D0%B6%D0%B5%D0%BD%D0%B8%D0%B9/lab12.ipynb#X20sZmlsZQ%3D%3D?line=73'>74</a>\u001b[0m \u001b[39m# 4. add the squared distance between the observation and the nearest unit in input space\u001b[39;00m\n\u001b[1;32m---> <a href='vscode-notebook-cell:/d%3A/%D0%A3%D0%BD%D0%B8%D0%B2%D0%B5%D1%80/%D0%9C%D0%B0%D0%B3%D0%B8%D1%81%D1%82%D1%80%D0%B0%D1%82%D1%83%D1%80%D0%B0/1%20%D0%BA%D1%83%D1%80%D1%81/2%20%D1%81%D0%B5%D0%BC%D0%B5%D1%81%D1%82%D1%80/%D0%A6%D0%B8%D1%84%D1%80%D0%BE%D0%B2%D0%B0%D1%8F%20%D0%BE%D0%B1%D1%80%D0%B0%D0%B1%D0%BE%D1%82%D0%BA%D0%B0%20%D0%B8%D0%B7%D0%BE%D0%B1%D1%80%D0%B0%D0%B6%D0%B5%D0%BD%D0%B8%D0%B9/lab12.ipynb#X20sZmlsZQ%3D%3D?line=74'>75</a>\u001b[0m \u001b[39mself\u001b[39m\u001b[39m.\u001b[39mnetwork\u001b[39m.\u001b[39mnodes[s_1][\u001b[39m'\u001b[39m\u001b[39merror\u001b[39m\u001b[39m'\u001b[39m] \u001b[39m+\u001b[39m\u001b[39m=\u001b[39m spatial\u001b[39m.\u001b[39;49mdistance\u001b[39m.\u001b[39;49meuclidean(observation, \u001b[39mself\u001b[39;49m\u001b[39m.\u001b[39;49mnetwork\u001b[39m.\u001b[39;49mnodes[s_1][\u001b[39m'\u001b[39;49m\u001b[39mvector\u001b[39;49m\u001b[39m'\u001b[39;49m])\u001b[39m*\u001b[39;49m\u001b[39m*\u001b[39;49m\u001b[39m2\u001b[39;49m\n\u001b[0;32m     <a href='vscode-notebook-cell:/d%3A/%D0%A3%D0%BD%D0%B8%D0%B2%D0%B5%D1%80/%D0%9C%D0%B0%D0%B3%D0%B8%D1%81%D1%82%D1%80%D0%B0%D1%82%D1%83%D1%80%D0%B0/1%20%D0%BA%D1%83%D1%80%D1%81/2%20%D1%81%D0%B5%D0%BC%D0%B5%D1%81%D1%82%D1%80/%D0%A6%D0%B8%D1%84%D1%80%D0%BE%D0%B2%D0%B0%D1%8F%20%D0%BE%D0%B1%D1%80%D0%B0%D0%B1%D0%BE%D1%82%D0%BA%D0%B0%20%D0%B8%D0%B7%D0%BE%D0%B1%D1%80%D0%B0%D0%B6%D0%B5%D0%BD%D0%B8%D0%B9/lab12.ipynb#X20sZmlsZQ%3D%3D?line=75'>76</a>\u001b[0m \u001b[39m# 5 .move s_1 and its direct topological neighbors towards the observation by the fractions\u001b[39;00m\n\u001b[0;32m     <a href='vscode-notebook-cell:/d%3A/%D0%A3%D0%BD%D0%B8%D0%B2%D0%B5%D1%80/%D0%9C%D0%B0%D0%B3%D0%B8%D1%81%D1%82%D1%80%D0%B0%D1%82%D1%83%D1%80%D0%B0/1%20%D0%BA%D1%83%D1%80%D1%81/2%20%D1%81%D0%B5%D0%BC%D0%B5%D1%81%D1%82%D1%80/%D0%A6%D0%B8%D1%84%D1%80%D0%BE%D0%B2%D0%B0%D1%8F%20%D0%BE%D0%B1%D1%80%D0%B0%D0%B1%D0%BE%D1%82%D0%BA%D0%B0%20%D0%B8%D0%B7%D0%BE%D0%B1%D1%80%D0%B0%D0%B6%D0%B5%D0%BD%D0%B8%D0%B9/lab12.ipynb#X20sZmlsZQ%3D%3D?line=76'>77</a>\u001b[0m \u001b[39m#    e_b and e_n, respectively, of the total distance\u001b[39;00m\n\u001b[0;32m     <a href='vscode-notebook-cell:/d%3A/%D0%A3%D0%BD%D0%B8%D0%B2%D0%B5%D1%80/%D0%9C%D0%B0%D0%B3%D0%B8%D1%81%D1%82%D1%80%D0%B0%D1%82%D1%83%D1%80%D0%B0/1%20%D0%BA%D1%83%D1%80%D1%81/2%20%D1%81%D0%B5%D0%BC%D0%B5%D1%81%D1%82%D1%80/%D0%A6%D0%B8%D1%84%D1%80%D0%BE%D0%B2%D0%B0%D1%8F%20%D0%BE%D0%B1%D1%80%D0%B0%D0%B1%D0%BE%D1%82%D0%BA%D0%B0%20%D0%B8%D0%B7%D0%BE%D0%B1%D1%80%D0%B0%D0%B6%D0%B5%D0%BD%D0%B8%D0%B9/lab12.ipynb#X20sZmlsZQ%3D%3D?line=77'>78</a>\u001b[0m update_w_s_1 \u001b[39m=\u001b[39m \u001b[39mself\u001b[39m\u001b[39m.\u001b[39me_b \u001b[39m*\u001b[39m \\\n\u001b[0;32m     <a href='vscode-notebook-cell:/d%3A/%D0%A3%D0%BD%D0%B8%D0%B2%D0%B5%D1%80/%D0%9C%D0%B0%D0%B3%D0%B8%D1%81%D1%82%D1%80%D0%B0%D1%82%D1%83%D1%80%D0%B0/1%20%D0%BA%D1%83%D1%80%D1%81/2%20%D1%81%D0%B5%D0%BC%D0%B5%D1%81%D1%82%D1%80/%D0%A6%D0%B8%D1%84%D1%80%D0%BE%D0%B2%D0%B0%D1%8F%20%D0%BE%D0%B1%D1%80%D0%B0%D0%B1%D0%BE%D1%82%D0%BA%D0%B0%20%D0%B8%D0%B7%D0%BE%D0%B1%D1%80%D0%B0%D0%B6%D0%B5%D0%BD%D0%B8%D0%B9/lab12.ipynb#X20sZmlsZQ%3D%3D?line=78'>79</a>\u001b[0m     (np\u001b[39m.\u001b[39msubtract(observation,\n\u001b[0;32m     <a href='vscode-notebook-cell:/d%3A/%D0%A3%D0%BD%D0%B8%D0%B2%D0%B5%D1%80/%D0%9C%D0%B0%D0%B3%D0%B8%D1%81%D1%82%D1%80%D0%B0%D1%82%D1%83%D1%80%D0%B0/1%20%D0%BA%D1%83%D1%80%D1%81/2%20%D1%81%D0%B5%D0%BC%D0%B5%D1%81%D1%82%D1%80/%D0%A6%D0%B8%D1%84%D1%80%D0%BE%D0%B2%D0%B0%D1%8F%20%D0%BE%D0%B1%D1%80%D0%B0%D0%B1%D0%BE%D1%82%D0%BA%D0%B0%20%D0%B8%D0%B7%D0%BE%D0%B1%D1%80%D0%B0%D0%B6%D0%B5%D0%BD%D0%B8%D0%B9/lab12.ipynb#X20sZmlsZQ%3D%3D?line=79'>80</a>\u001b[0m                  \u001b[39mself\u001b[39m\u001b[39m.\u001b[39mnetwork\u001b[39m.\u001b[39mnodes[s_1][\u001b[39m'\u001b[39m\u001b[39mvector\u001b[39m\u001b[39m'\u001b[39m]))\n",
      "\u001b[1;31mOverflowError\u001b[0m: (34, 'Result too large')"
     ]
    }
   ],
   "source": [
    "from sklearn import datasets, metrics\n",
    "import networkx as nx\n",
    "\n",
    "def evaluate_on_digits():\n",
    "    digits = datasets.load_digits()\n",
    "    data = digits.data[:50]\n",
    "    target = digits.target[:50]\n",
    "    gng = GrowingNeuralGas(data)\n",
    "    gng.fit_network(e_b=0.05, e_n=0.006, a_max=8, l=100, a=0.5, d=0.995, passes=5, plot_evolution=False)\n",
    "    clustered_data = gng.cluster_data()\n",
    "    print('Found %d clusters.' % nx.number_connected_components(gng.network))\n",
    "    target_infered = []\n",
    "    for observation, cluster in clustered_data:\n",
    "        target_infered.append(cluster)\n",
    "    homogeneity = metrics.homogeneity_score(target, target_infered)\n",
    "    print(homogeneity)\n",
    "    gng.plot_clusters(gng.reduce_dimension(gng.cluster_data()))\n",
    "\n",
    "evaluate_on_digits()"
   ]
  }
 ],
 "metadata": {
  "kernelspec": {
   "display_name": "Python 3",
   "language": "python",
   "name": "python3"
  },
  "language_info": {
   "codemirror_mode": {
    "name": "ipython",
    "version": 3
   },
   "file_extension": ".py",
   "mimetype": "text/x-python",
   "name": "python",
   "nbconvert_exporter": "python",
   "pygments_lexer": "ipython3",
   "version": "3.10.4"
  },
  "orig_nbformat": 4,
  "vscode": {
   "interpreter": {
    "hash": "d8a624bf1adbbaf933b0003c78f638b728874fee2c1556a8e12c023670791837"
   }
  }
 },
 "nbformat": 4,
 "nbformat_minor": 2
}
